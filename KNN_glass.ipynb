{
 "cells": [
  {
   "cell_type": "code",
   "execution_count": 90,
   "id": "5d70d13a",
   "metadata": {
    "ExecuteTime": {
     "end_time": "2021-08-14T18:18:50.800247Z",
     "start_time": "2021-08-14T18:18:50.782735Z"
    }
   },
   "outputs": [],
   "source": [
    "import pandas as pd\n",
    "from pandas import read_csv\n",
    "import numpy as np\n",
    "from sklearn.model_selection import KFold\n",
    "from sklearn.model_selection import cross_val_score\n",
    "from sklearn.neighbors import KNeighborsClassifier"
   ]
  },
  {
   "cell_type": "code",
   "execution_count": 91,
   "id": "37a415e9",
   "metadata": {
    "ExecuteTime": {
     "end_time": "2021-08-14T18:18:50.892064Z",
     "start_time": "2021-08-14T18:18:50.802029Z"
    }
   },
   "outputs": [],
   "source": [
    "filename = 'glass.csv'\n",
    "names = ['RI', 'Na', 'Mg', 'Al', 'Si', 'K', 'Ca', 'Ba', 'Fe','Type']\n",
    "dataframe = read_csv(filename, names=names)"
   ]
  },
  {
   "cell_type": "code",
   "execution_count": 92,
   "id": "d8386cfb",
   "metadata": {
    "ExecuteTime": {
     "end_time": "2021-08-14T18:18:50.953960Z",
     "start_time": "2021-08-14T18:18:50.894079Z"
    }
   },
   "outputs": [],
   "source": [
    "\n",
    "array = dataframe.values\n",
    "X = array[2:215, 0:9]\n",
    "Y = array[2:215, 9]"
   ]
  },
  {
   "cell_type": "code",
   "execution_count": 93,
   "id": "0b78e3e6",
   "metadata": {
    "ExecuteTime": {
     "end_time": "2021-08-14T18:18:51.046370Z",
     "start_time": "2021-08-14T18:18:50.955817Z"
    }
   },
   "outputs": [
    {
     "data": {
      "text/plain": [
       "array([['1.51761', '13.89', '3.6', ..., '7.83', '0', '0'],\n",
       "       ['1.51618', '13.53', '3.55', ..., '7.78', '0', '0'],\n",
       "       ['1.51766', '13.21', '3.69', ..., '8.22', '0', '0'],\n",
       "       ...,\n",
       "       ['1.52065', '14.36', '0', ..., '8.44', '1.64', '0'],\n",
       "       ['1.51651', '14.38', '0', ..., '8.48', '1.57', '0'],\n",
       "       ['1.51711', '14.23', '0', ..., '8.62', '1.67', '0']], dtype=object)"
      ]
     },
     "execution_count": 93,
     "metadata": {},
     "output_type": "execute_result"
    }
   ],
   "source": [
    "X"
   ]
  },
  {
   "cell_type": "code",
   "execution_count": 94,
   "id": "7a61fe34",
   "metadata": {
    "ExecuteTime": {
     "end_time": "2021-08-14T18:18:51.139768Z",
     "start_time": "2021-08-14T18:18:51.049264Z"
    }
   },
   "outputs": [
    {
     "data": {
      "text/plain": [
       "array(['1', '1', '1', '1', '1', '1', '1', '1', '1', '1', '1', '1', '1',\n",
       "       '1', '1', '1', '1', '1', '1', '1', '1', '1', '1', '1', '1', '1',\n",
       "       '1', '1', '1', '1', '1', '1', '1', '1', '1', '1', '1', '1', '1',\n",
       "       '1', '1', '1', '1', '1', '1', '1', '1', '1', '1', '1', '1', '1',\n",
       "       '1', '1', '1', '1', '1', '1', '1', '1', '1', '1', '1', '1', '1',\n",
       "       '1', '1', '1', '1', '2', '2', '2', '2', '2', '2', '2', '2', '2',\n",
       "       '2', '2', '2', '2', '2', '2', '2', '2', '2', '2', '2', '2', '2',\n",
       "       '2', '2', '2', '2', '2', '2', '2', '2', '2', '2', '2', '2', '2',\n",
       "       '2', '2', '2', '2', '2', '2', '2', '2', '2', '2', '2', '2', '2',\n",
       "       '2', '2', '2', '2', '2', '2', '2', '2', '2', '2', '2', '2', '2',\n",
       "       '2', '2', '2', '2', '2', '2', '2', '2', '2', '2', '2', '2', '2',\n",
       "       '2', '2', '3', '3', '3', '3', '3', '3', '3', '3', '3', '3', '3',\n",
       "       '3', '3', '3', '3', '3', '3', '5', '5', '5', '5', '5', '5', '5',\n",
       "       '5', '5', '5', '5', '5', '5', '6', '6', '6', '6', '6', '6', '6',\n",
       "       '6', '6', '7', '7', '7', '7', '7', '7', '7', '7', '7', '7', '7',\n",
       "       '7', '7', '7', '7', '7', '7', '7', '7', '7', '7', '7', '7', '7',\n",
       "       '7', '7', '7', '7', '7'], dtype=object)"
      ]
     },
     "execution_count": 94,
     "metadata": {},
     "output_type": "execute_result"
    }
   ],
   "source": [
    "Y"
   ]
  },
  {
   "cell_type": "code",
   "execution_count": 95,
   "id": "d44f170c",
   "metadata": {
    "ExecuteTime": {
     "end_time": "2021-08-14T18:18:51.216416Z",
     "start_time": "2021-08-14T18:18:51.140762Z"
    }
   },
   "outputs": [],
   "source": [
    "num_folds = 20\n",
    "kfold = KFold(n_splits=20)"
   ]
  },
  {
   "cell_type": "code",
   "execution_count": 96,
   "id": "9669760e",
   "metadata": {
    "ExecuteTime": {
     "end_time": "2021-08-14T18:18:51.355931Z",
     "start_time": "2021-08-14T18:18:51.217694Z"
    }
   },
   "outputs": [],
   "source": [
    "model = KNeighborsClassifier(n_neighbors=15)\n",
    "results = cross_val_score(model, X, Y, cv=kfold)"
   ]
  },
  {
   "cell_type": "code",
   "execution_count": 97,
   "id": "d528e945",
   "metadata": {
    "ExecuteTime": {
     "end_time": "2021-08-14T18:18:51.371498Z",
     "start_time": "2021-08-14T18:18:51.358480Z"
    }
   },
   "outputs": [
    {
     "name": "stdout",
     "output_type": "stream",
     "text": [
      "0.5513636363636364\n"
     ]
    }
   ],
   "source": [
    "print(results.mean())"
   ]
  },
  {
   "cell_type": "code",
   "execution_count": 98,
   "id": "857cc370",
   "metadata": {
    "ExecuteTime": {
     "end_time": "2021-08-14T18:18:51.543389Z",
     "start_time": "2021-08-14T18:18:51.373419Z"
    }
   },
   "outputs": [],
   "source": [
    "model = KNeighborsClassifier(n_neighbors=5)\n",
    "results = cross_val_score(model, X, Y, cv=kfold)"
   ]
  },
  {
   "cell_type": "code",
   "execution_count": 99,
   "id": "b67cfd84",
   "metadata": {
    "ExecuteTime": {
     "end_time": "2021-08-14T18:18:51.620556Z",
     "start_time": "2021-08-14T18:18:51.545330Z"
    }
   },
   "outputs": [
    {
     "name": "stdout",
     "output_type": "stream",
     "text": [
      "0.5286363636363637\n"
     ]
    }
   ],
   "source": [
    "print(results.mean())"
   ]
  },
  {
   "cell_type": "code",
   "execution_count": 100,
   "id": "a4eda128",
   "metadata": {
    "ExecuteTime": {
     "end_time": "2021-08-14T18:18:51.838878Z",
     "start_time": "2021-08-14T18:18:51.621476Z"
    }
   },
   "outputs": [],
   "source": [
    "model = KNeighborsClassifier(n_neighbors=2)\n",
    "results = cross_val_score(model, X, Y, cv=kfold)"
   ]
  },
  {
   "cell_type": "code",
   "execution_count": 101,
   "id": "6458262e",
   "metadata": {
    "ExecuteTime": {
     "end_time": "2021-08-14T18:18:51.870111Z",
     "start_time": "2021-08-14T18:18:51.839871Z"
    }
   },
   "outputs": [
    {
     "name": "stdout",
     "output_type": "stream",
     "text": [
      "0.5495454545454546\n"
     ]
    }
   ],
   "source": [
    "print(results.mean())"
   ]
  },
  {
   "cell_type": "code",
   "execution_count": 102,
   "id": "457f6800",
   "metadata": {
    "ExecuteTime": {
     "end_time": "2021-08-14T18:18:51.978440Z",
     "start_time": "2021-08-14T18:18:51.872294Z"
    }
   },
   "outputs": [],
   "source": [
    "model = KNeighborsClassifier(n_neighbors=1)\n",
    "results = cross_val_score(model, X, Y, cv=kfold)"
   ]
  },
  {
   "cell_type": "code",
   "execution_count": 103,
   "id": "f06f1885",
   "metadata": {
    "ExecuteTime": {
     "end_time": "2021-08-14T18:18:52.041123Z",
     "start_time": "2021-08-14T18:18:51.979374Z"
    }
   },
   "outputs": [
    {
     "name": "stdout",
     "output_type": "stream",
     "text": [
      "0.5790909090909091\n"
     ]
    }
   ],
   "source": [
    "print(results.mean())"
   ]
  },
  {
   "cell_type": "code",
   "execution_count": 104,
   "id": "ce542bf0",
   "metadata": {
    "ExecuteTime": {
     "end_time": "2021-08-14T18:18:52.102148Z",
     "start_time": "2021-08-14T18:18:52.042667Z"
    }
   },
   "outputs": [],
   "source": [
    "# n_neighbors=1 gives the best result."
   ]
  },
  {
   "cell_type": "code",
   "execution_count": null,
   "id": "15cc7e16",
   "metadata": {},
   "outputs": [],
   "source": []
  },
  {
   "cell_type": "code",
   "execution_count": 105,
   "id": "624925a0",
   "metadata": {
    "ExecuteTime": {
     "end_time": "2021-08-14T18:18:52.195711Z",
     "start_time": "2021-08-14T18:18:52.103186Z"
    }
   },
   "outputs": [],
   "source": [
    "#grid search"
   ]
  },
  {
   "cell_type": "code",
   "execution_count": 106,
   "id": "53458c7c",
   "metadata": {
    "ExecuteTime": {
     "end_time": "2021-08-14T18:18:52.272574Z",
     "start_time": "2021-08-14T18:18:52.199759Z"
    }
   },
   "outputs": [],
   "source": [
    "import numpy\n",
    "from pandas import read_csv\n",
    "from sklearn.neighbors import KNeighborsClassifier\n",
    "from sklearn.model_selection import GridSearchCV"
   ]
  },
  {
   "cell_type": "code",
   "execution_count": 107,
   "id": "b35561e2",
   "metadata": {
    "ExecuteTime": {
     "end_time": "2021-08-14T18:18:52.335505Z",
     "start_time": "2021-08-14T18:18:52.275188Z"
    }
   },
   "outputs": [],
   "source": [
    "n_neighbors = numpy.array(range(1,40))\n",
    "param_grid = dict(n_neighbors=n_neighbors)"
   ]
  },
  {
   "cell_type": "code",
   "execution_count": 108,
   "id": "01819bbd",
   "metadata": {
    "ExecuteTime": {
     "end_time": "2021-08-14T18:18:52.915697Z",
     "start_time": "2021-08-14T18:18:52.337106Z"
    }
   },
   "outputs": [
    {
     "data": {
      "text/plain": [
       "GridSearchCV(estimator=KNeighborsClassifier(),\n",
       "             param_grid={'n_neighbors': array([ 1,  2,  3,  4,  5,  6,  7,  8,  9, 10, 11, 12, 13, 14, 15, 16, 17,\n",
       "       18, 19, 20, 21, 22, 23, 24, 25, 26, 27, 28, 29, 30, 31, 32, 33, 34,\n",
       "       35, 36, 37, 38, 39])})"
      ]
     },
     "execution_count": 108,
     "metadata": {},
     "output_type": "execute_result"
    }
   ],
   "source": [
    "model = KNeighborsClassifier()\n",
    "grid = GridSearchCV(estimator=model, param_grid=param_grid)\n",
    "grid.fit(X, Y)"
   ]
  },
  {
   "cell_type": "code",
   "execution_count": 109,
   "id": "44aac393",
   "metadata": {
    "ExecuteTime": {
     "end_time": "2021-08-14T18:18:52.931886Z",
     "start_time": "2021-08-14T18:18:52.918627Z"
    }
   },
   "outputs": [
    {
     "name": "stdout",
     "output_type": "stream",
     "text": [
      "0.6436323366555925\n",
      "{'n_neighbors': 1}\n"
     ]
    }
   ],
   "source": [
    "print(grid.best_score_)\n",
    "print(grid.best_params_)"
   ]
  },
  {
   "cell_type": "code",
   "execution_count": null,
   "id": "9164bae7",
   "metadata": {},
   "outputs": [],
   "source": []
  },
  {
   "cell_type": "code",
   "execution_count": 110,
   "id": "93fda360",
   "metadata": {
    "ExecuteTime": {
     "end_time": "2021-08-14T18:18:53.820479Z",
     "start_time": "2021-08-14T18:18:52.932664Z"
    }
   },
   "outputs": [
    {
     "data": {
      "image/png": "[encoded data removed]",
      "text/plain": [
       "<Figure size 432x288 with 1 Axes>"
      ]
     },
     "metadata": {
      "needs_background": "light"
     },
     "output_type": "display_data"
    }
   ],
   "source": [
    "import matplotlib.pyplot as plt \n",
    "%matplotlib inline\n",
    "# choose k between 1 to 50\n",
    "k_range = range(1, 50)\n",
    "k_scores = []\n",
    "# use iteration to caclulator different k in models, then return the average accuracy based on the cross validation\n",
    "for k in k_range:\n",
    "    knn = KNeighborsClassifier(n_neighbors=k)\n",
    "    scores = cross_val_score(knn, X, Y, cv=5)\n",
    "    k_scores.append(scores.mean())\n",
    "# plot to see clearly\n",
    "plt.plot(k_range, k_scores)\n",
    "plt.xlabel('Value of K for KNN')\n",
    "plt.ylabel('Cross-Validated Accuracy')\n",
    "plt.show()"
   ]
  },
  {
   "cell_type": "code",
   "execution_count": null,
   "id": "669e0bc4",
   "metadata": {},
   "outputs": [],
   "source": []
  },
  {
   "cell_type": "code",
   "execution_count": null,
   "id": "9fc67043",
   "metadata": {},
   "outputs": [],
   "source": []
  },
  {
   "cell_type": "code",
   "execution_count": null,
   "id": "552a657e",
   "metadata": {},
   "outputs": [],
   "source": []
  },
  {
   "cell_type": "code",
   "execution_count": null,
   "id": "8e00efbf",
   "metadata": {},
   "outputs": [],
   "source": []
  }
 ],
 "metadata": {
  "kernelspec": {
   "display_name": "Python 3",
   "language": "python",
   "name": "python3"
  },
  "language_info": {
   "codemirror_mode": {
    "name": "ipython",
    "version": 3
   },
   "file_extension": ".py",
   "mimetype": "text/x-python",
   "name": "python",
   "nbconvert_exporter": "python",
   "pygments_lexer": "ipython3",
   "version": "3.8.8"
  },
  "varInspector": {
   "cols": {
    "lenName": 16,
    "lenType": 16,
    "lenVar": 40
   },
   "kernels_config": {
    "python": {
     "delete_cmd_postfix": "",
     "delete_cmd_prefix": "del ",
     "library": "var_list.py",
     "varRefreshCmd": "print(var_dic_list())"
    },
    "r": {
     "delete_cmd_postfix": ") ",
     "delete_cmd_prefix": "rm(",
     "library": "var_list.r",
     "varRefreshCmd": "cat(var_dic_list()) "
    }
   },
   "types_to_exclude": [
    "module",
    "function",
    "builtin_function_or_method",
    "instance",
    "_Feature"
   ],
   "window_display": false
  }
 },
 "nbformat": 4,
 "nbformat_minor": 5
}
